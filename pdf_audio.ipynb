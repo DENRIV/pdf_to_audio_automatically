{
 "cells": [
  {
   "cell_type": "code",
   "execution_count": null,
   "metadata": {},
   "outputs": [],
   "source": [
    "# pdf to audio\n",
    "\n",
    "# pip install pyttsx3\n",
    "# pip install PyPDF2\n",
    "\n",
    "# PyPDF2 3.0.0"
   ]
  },
  {
   "cell_type": "code",
   "execution_count": 31,
   "metadata": {},
   "outputs": [],
   "source": [
    "# Import the required module for text to speech conversio\n",
    "import pyttsx3\n",
    "\n",
    "# init function to get an engine instance for the speech synthesis\n",
    "engine = pyttsx3.init()\n",
    "\n",
    "# say method on the engine that passing input text to be spoken\n",
    "# en\n",
    "# engine.say('Hello sir, how may I help you, sir.')\n",
    "# es\n",
    "engine.say('Hola, Como le puedo ayudar? ')\n",
    "\n",
    "# run and wait method, it processes the voice commands.\n",
    "engine.runAndWait()"
   ]
  },
  {
   "cell_type": "code",
   "execution_count": 24,
   "metadata": {},
   "outputs": [
    {
     "name": "stdout",
     "output_type": "stream",
     "text": [
      "<Voice id=HKEY_LOCAL_MACHINE\\SOFTWARE\\Microsoft\\Speech\\Voices\\Tokens\\TTS_MS_ES-ES_HELENA_11.0\n",
      "          name=Microsoft Helena Desktop - Spanish (Spain)\n",
      "          languages=[]\n",
      "          gender=None\n",
      "          age=None>\n",
      "<Voice id=HKEY_LOCAL_MACHINE\\SOFTWARE\\Microsoft\\Speech\\Voices\\Tokens\\TTS_MS_EN-US_ZIRA_11.0\n",
      "          name=Microsoft Zira Desktop - English (United States)\n",
      "          languages=[]\n",
      "          gender=None\n",
      "          age=None>\n",
      "<Voice id=HKEY_LOCAL_MACHINE\\SOFTWARE\\Microsoft\\Speech\\Voices\\Tokens\\TTS_MS_EN-US_DAVID_11.0\n",
      "          name=Microsoft David Desktop - English (United States)\n",
      "          languages=[]\n",
      "          gender=None\n",
      "          age=None>\n"
     ]
    }
   ],
   "source": [
    "# voices list\n",
    "import pyttsx3\n",
    "\n",
    "engine = pyttsx3.init()\n",
    "\n",
    "for voice in engine.getProperty('voices'):\n",
    "    print(voice)"
   ]
  },
  {
   "cell_type": "code",
   "execution_count": 32,
   "metadata": {},
   "outputs": [],
   "source": [
    "#engine.setProperty('voice', voice.id)\n",
    "\n",
    "voice_id='HKEY_LOCAL_MACHINE\\SOFTWARE\\Microsoft\\Speech\\Voices\\Tokens\\TTS_MS_ES-ES_HELENA_11.0'\n",
    "engine.setProperty('voice', voice_id)"
   ]
  },
  {
   "cell_type": "code",
   "execution_count": 33,
   "metadata": {},
   "outputs": [],
   "source": [
    "# en\n",
    "#engine.say('Hello sir, how may I help you, sir.')\n",
    "# es\n",
    "engine.say('Hola, Como le puedo ayudar? ')\n",
    "\n",
    "# run and wait method, it processes the voice commands.\n",
    "engine.runAndWait()"
   ]
  },
  {
   "cell_type": "code",
   "execution_count": 34,
   "metadata": {},
   "outputs": [],
   "source": [
    "#engine.setProperty('voice', voice.id)\n",
    "\n",
    "voice_id='HKEY_LOCAL_MACHINE\\SOFTWARE\\Microsoft\\Speech\\Voices\\Tokens\\TTS_MS_EN-US_ZIRA_11.0'\n",
    "engine.setProperty('voice', voice_id)"
   ]
  },
  {
   "cell_type": "code",
   "execution_count": 35,
   "metadata": {},
   "outputs": [],
   "source": [
    "# en\n",
    "engine.say('Hello sir, how may I help you, sir.')\n",
    "# es\n",
    "#engine.say('Hola, Como le puedo ayudar? ')\n",
    "\n",
    "# run and wait method, it processes the voice commands.\n",
    "engine.runAndWait()"
   ]
  },
  {
   "cell_type": "code",
   "execution_count": 36,
   "metadata": {},
   "outputs": [
    {
     "name": "stdout",
     "output_type": "stream",
     "text": [
      "Num.Pages: 1\n",
      "The Hare and the Tortoise One day the Hare laughed at the short feet and slow speed of the Tortoise. The  Tortoise replied: \"You may be as fast as the wind, but I will beat you in a race!\" The Hare thought this idea was impossible and he agreed to the proposal. It was  agreed that the Fox should choose the course and decide the end. The day for the race came, and the Tortoise and Hare started together. The Tortoise never stopped for a moment, walking slowly but steadily, right to the  end of the course. The Hare ran fast and stopped to lie down for a rest. But he  fell fast asleep. Eventually, he woke up and ran as fast as he could. But when he  reached the end, he saw the Tortoise there already, sleeping comfortably after her  effort.\n"
     ]
    }
   ],
   "source": [
    "import pyttsx3,PyPDF2\n",
    "\n",
    "filename = 'The_Hare_and_the_Tortoise'\n",
    "#pdf_file = 'myPDF.pdf'\n",
    "pdf_file = filename + '.pdf'\n",
    "# mp3 file\n",
    "mp3_file = filename + \".mp3\"\n",
    "\n",
    "pdfreader = PyPDF2.PdfReader(open(pdf_file, 'rb'))\n",
    "speaker = pyttsx3.init()\n",
    "\n",
    "print(\"Num.Pages:\",len(pdfreader.pages))\n",
    "\n",
    "# range(pdfreader.numPages) # pdfreader.pages[page_number]\n",
    "for page_num in range(len(pdfreader.pages)):\n",
    "    # getPage() -> pages[]\n",
    "    # extractText() -> extract_text()\n",
    "    text_page = pdfreader.pages[page_num].extract_text()\n",
    "    clean_text = text_page.strip().replace('\\n', ' ')\n",
    "    print(clean_text)\n",
    "                                      \n",
    "speaker.save_to_file(clean_text, mp3_file)\n",
    "speaker.runAndWait()\n",
    "\n",
    "speaker.stop()"
   ]
  }
 ],
 "metadata": {
  "kernelspec": {
   "display_name": "Python 3",
   "language": "python",
   "name": "python3"
  },
  "language_info": {
   "codemirror_mode": {
    "name": "ipython",
    "version": 3
   },
   "file_extension": ".py",
   "mimetype": "text/x-python",
   "name": "python",
   "nbconvert_exporter": "python",
   "pygments_lexer": "ipython3",
   "version": "3.7.1"
  }
 },
 "nbformat": 4,
 "nbformat_minor": 2
}
